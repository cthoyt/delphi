{
 "cells": [
  {
   "cell_type": "markdown",
   "metadata": {
    "slideshow": {
     "slide_type": "slide"
    }
   },
   "source": [
    "# Delphi Demo - Causal Analysis Graphs from <span style='color:royalblue; font-style: italic'>Software</span>\n",
    "\n",
    "This is a Jupyter notebook created to showcase the program analysis-specific design and capabilities of\n",
    "the Delphi package, available at [https://github.com/ml4ai/delphi](https://github.com/ml4ai/delphi). The program analysis capabilities of Delphi are being developed as part of the AutoMATES program.  "
   ]
  },
  {
   "cell_type": "markdown",
   "metadata": {
    "slideshow": {
     "slide_type": "skip"
    }
   },
   "source": [
    "If you are viewing this as a prerendered HTML document, it was generated with the version of Delphi corresponding to the commit hash below."
   ]
  },
  {
   "cell_type": "code",
   "execution_count": null,
   "metadata": {
    "attributes": {
     "classes": [],
     "id": "",
     "n": "1"
    },
    "slideshow": {
     "slide_type": "skip"
    }
   },
   "outputs": [],
   "source": [
    "!git rev-parse HEAD"
   ]
  },
  {
   "cell_type": "code",
   "execution_count": null,
   "metadata": {},
   "outputs": [],
   "source": [
    "%load_ext autoreload\n",
    "%autoreload 2"
   ]
  },
  {
   "cell_type": "markdown",
   "metadata": {
    "slideshow": {
     "slide_type": "subslide"
    }
   },
   "source": [
    "## Original Fortran program"
   ]
  },
  {
   "cell_type": "markdown",
   "metadata": {},
   "source": [
    "Below is a small FORTRAN program that calculates crop yield given rainfall. Executing the cell below writes the FORTRAN program to a file called `crop_yield.f`"
   ]
  },
  {
   "cell_type": "code",
   "execution_count": null,
   "metadata": {
    "slideshow": {
     "slide_type": "-"
    }
   },
   "outputs": [],
   "source": [
    "%%writefile crop_yield.f\n",
    "************************************************************************\n",
    "*     UPDATE_EST - Updates the estimated yield of magic beans given \n",
    "*       some additional amount of rainfall\n",
    "************************************************************************\n",
    "*\n",
    "*     VARIABLES\n",
    "*     \n",
    "*     INPUT RAIN      = Additional rainfall\n",
    "*\n",
    "*     INPUT YIELD_EST = Crop yield to update\n",
    "*\n",
    "************************************************************************\n",
    "      SUBROUTINE UPDATE_EST(RAIN, TOTAL_RAIN, YIELD_EST)\n",
    "        DOUBLE PRECISION RAIN, YIELD_EST, TOTAL_RAIN\n",
    "        TOTAL_RAIN = TOTAL_RAIN + RAIN\n",
    "\n",
    "*       Yield increases up to a point\n",
    "        IF(TOTAL_RAIN .le. 40) THEN\n",
    "            YIELD_EST = -(TOTAL_RAIN - 40) ** 2 / 16 + 100\n",
    "\n",
    "*       Then sharply declines\n",
    "        ELSE\n",
    "            YIELD_EST = -TOTAL_RAIN + 140\n",
    "        ENDIF\n",
    "\n",
    "      END SUBROUTINE UPDATE_EST\n",
    "\n",
    "************************************************************************\n",
    "*     CROP_YIELD - Estimate the yield of magic beans given a simple \n",
    "*       model for rainfall\n",
    "************************************************************************\n",
    "*\n",
    "*     VARIABLES\n",
    "*     \n",
    "*     INPUT MAX_RAIN   = The maximum rain for the month\n",
    "*     INPUT CONSISTENCY = The consistency of the rainfall \n",
    "*       (higher = more consistent)\n",
    "*     INPUT ABSORPTION = Estimates the % of rainfall absorbed into the\n",
    "*       soil (i.e. % lost due to evaporation, runoff)\n",
    "*\n",
    "*     OUTPUT YIELD_EST = The estimated yield of magic beans\n",
    "*\n",
    "*     DAY              = The current day of the month\n",
    "*     RAIN             = The rainfall estimate for the current day\n",
    "*\n",
    "************************************************************************\n",
    "      PROGRAM CROP_YIELD\n",
    "      IMPLICIT NONE\n",
    "\n",
    "      INTEGER DAY\n",
    "      DOUBLE PRECISION RAIN, YIELD_EST, TOTAL_RAIN\n",
    "      DOUBLE PRECISION MAX_RAIN, CONSISTENCY, ABSORPTION\n",
    "\n",
    "      MAX_RAIN = 4.0\n",
    "      CONSISTENCY = 64.0\n",
    "      ABSORPTION = 0.6\n",
    "      \n",
    "      YIELD_EST = 0\n",
    "      TOTAL_RAIN = 0\n",
    " \n",
    "      DO 20 DAY=1,31\n",
    "*       Compute rainfall for the current day\n",
    "        RAIN = (-(DAY - 16) ** 2 / CONSISTENCY + MAX_RAIN) * ABSORPTION\n",
    "\n",
    "*       Update rainfall estimate\n",
    "        CALL UPDATE_EST(RAIN, TOTAL_RAIN, YIELD_EST)\n",
    "        PRINT *, \"Day \", DAY, \" Estimate: \", YIELD_EST\n",
    "\n",
    "   20 ENDDO\n",
    "\n",
    "      PRINT *, \"Crop Yield(%): \", YIELD_EST\n",
    "\n",
    "      END PROGRAM CROP_YIELD"
   ]
  },
  {
   "cell_type": "code",
   "execution_count": null,
   "metadata": {},
   "outputs": [],
   "source": [
    "!pwd"
   ]
  },
  {
   "cell_type": "code",
   "execution_count": null,
   "metadata": {
    "slideshow": {
     "slide_type": "subslide"
    }
   },
   "outputs": [],
   "source": [
    "import os\n",
    "os.environ[\"CLASSPATH\"] = (\n",
    "    \"../delphi/program_analysis/autoTranslate/bin/*\"\n",
    ")\n",
    "original_fortran_file = \"crop_yield.f\"\n",
    "preprocessed_fortran_file = \"crop_yield_preprocessed.f\""
   ]
  },
  {
   "cell_type": "code",
   "execution_count": null,
   "metadata": {},
   "outputs": [],
   "source": [
    "import ast\n",
    "from delphi.program_analysis.autoTranslate.scripts import (\n",
    "    f2py_pp,\n",
    "    translate,\n",
    "    get_comments,\n",
    "    pyTranslate,\n",
    "    genPGM,\n",
    ")\n",
    "import subprocess as sp\n",
    "import xml.etree.ElementTree as ET\n",
    "import json\n",
    "f2py_pp.process(original_fortran_file, preprocessed_fortran_file)\n",
    "xml_string = sp.run(\n",
    "    [\n",
    "        \"java\",\n",
    "        \"fortran.ofp.FrontEnd\",\n",
    "        \"--class\",\n",
    "        \"fortran.ofp.XMLPrinter\",\n",
    "        \"--verbosity\",\n",
    "        \"0\",\n",
    "        \"crop_yield_preprocessed.f\",\n",
    "    ],\n",
    "    stdout=sp.PIPE,\n",
    ").stdout\n",
    "\n",
    "trees = [ET.fromstring(xml_string)]\n",
    "comments = get_comments.get_comments(preprocessed_fortran_file)\n",
    "outputDict = translate.analyze(trees, comments)\n",
    "pySrc = pyTranslate.create_python_string(outputDict)\n",
    "asts = [ast.parse(pySrc)]\n",
    "pgm_dict = genPGM.create_pgm_dict(\n",
    "    \"crop_yield_lambdas.py\", asts, \"crop_yield.json\"\n",
    ")\n",
    "with open(\"crop_yield.json\", \"w\") as f:\n",
    "    f.write(json.dumps(pgm_dict, indent=2))"
   ]
  },
  {
   "cell_type": "markdown",
   "metadata": {
    "slideshow": {
     "slide_type": "subslide"
    }
   },
   "source": [
    "## Extracted lambda functions"
   ]
  },
  {
   "cell_type": "code",
   "execution_count": null,
   "metadata": {
    "scrolled": true
   },
   "outputs": [],
   "source": [
    "import delphi.jupyter_tools as jt\n",
    "jt.display(\"crop_yield_lambdas.py\")"
   ]
  },
  {
   "cell_type": "markdown",
   "metadata": {
    "slideshow": {
     "slide_type": "subslide"
    }
   },
   "source": [
    "## JSON-Serialized GrFN"
   ]
  },
  {
   "cell_type": "code",
   "execution_count": null,
   "metadata": {
    "attributes": {
     "classes": [],
     "id": "",
     "n": "3"
    },
    "slideshow": {
     "slide_type": "-"
    }
   },
   "outputs": [],
   "source": [
    "jt.display(\"crop_yield.json\")"
   ]
  },
  {
   "cell_type": "markdown",
   "metadata": {
    "slideshow": {
     "slide_type": "subslide"
    }
   },
   "source": [
    "## Executable DBN - Loop plate representation"
   ]
  },
  {
   "cell_type": "code",
   "execution_count": null,
   "metadata": {
    "attributes": {
     "classes": [],
     "id": "",
     "n": "2"
    },
    "slideshow": {
     "slide_type": "slide"
    }
   },
   "outputs": [],
   "source": [
    "from delphi.program_analysis.scopes import Scope\n",
    "root = Scope.from_json(\"crop_yield.json\")\n",
    "A = root.to_agraph()\n",
    "jt.display_image(A.draw(format='png', prog='dot'))"
   ]
  },
  {
   "cell_type": "markdown",
   "metadata": {
    "slideshow": {
     "slide_type": "slide"
    }
   },
   "source": [
    "## High-level representation of CAG from program"
   ]
  },
  {
   "cell_type": "code",
   "execution_count": null,
   "metadata": {
    "scrolled": true,
    "slideshow": {
     "slide_type": "fragment"
    }
   },
   "outputs": [],
   "source": [
    "import crop_yield_lambdas\n",
    "from delphi.program_analysis.ProgramAnalysisGraph import ProgramAnalysisGraph\n",
    "G = ProgramAnalysisGraph.from_agraph(A, crop_yield_lambdas)\n",
    "G.initialize()"
   ]
  },
  {
   "cell_type": "code",
   "execution_count": null,
   "metadata": {},
   "outputs": [],
   "source": [
    "from delphi.visualization import visualize\n",
    "visualize(G, show_values = True)"
   ]
  },
  {
   "cell_type": "code",
   "execution_count": null,
   "metadata": {
    "slideshow": {
     "slide_type": "subslide"
    }
   },
   "outputs": [],
   "source": [
    "G.update()\n",
    "visualize(G, show_values = True)"
   ]
  },
  {
   "cell_type": "code",
   "execution_count": null,
   "metadata": {
    "slideshow": {
     "slide_type": "subslide"
    }
   },
   "outputs": [],
   "source": [
    "G.update()\n",
    "visualize(G, show_values = True)"
   ]
  },
  {
   "cell_type": "markdown",
   "metadata": {
    "slideshow": {
     "slide_type": "slide"
    }
   },
   "source": [
    "## Sensitivity Analysis"
   ]
  },
  {
   "cell_type": "code",
   "execution_count": null,
   "metadata": {
    "slideshow": {
     "slide_type": "fragment"
    }
   },
   "outputs": [],
   "source": [
    "%matplotlib inline\n",
    "import seaborn as sns\n",
    "sns.set_style('darkgrid')\n",
    "from IPython.display import set_matplotlib_formats\n",
    "set_matplotlib_formats('retina')\n",
    "import numpy as np\n",
    "from matplotlib import pyplot as plt\n",
    "from delphi.utils import compose, rcompose\n",
    "from delphi.program_analysis.ProgramAnalysisGraph import ProgramAnalysisGraph\n",
    "\n",
    "def make_plots(n_samples, deterministic = True):\n",
    "    variables = ('RAIN', 'TOTAL_RAIN', 'YIELD_EST')\n",
    "    vals = {k:[] for k in variables}\n",
    "    days = {k:[] for k in variables}\n",
    "    palette = sns.color_palette()\n",
    "    colors = {k:palette[i] for i, k in enumerate(vals)}\n",
    "    fig, axes = plt.subplots(1,len(vals), figsize=(18, 5))\n",
    "    ax = {k:axes[i] for i, k in enumerate(vals)}\n",
    "\n",
    "    for _ in range(n_samples):\n",
    "        G = ProgramAnalysisGraph.from_agraph(A, crop_yield_lambdas)\n",
    "        if not deterministic:\n",
    "            G.nodes['MAX_RAIN']['init_fn'] = lambda: np.random.normal(4, 1)\n",
    "        G.initialize()\n",
    "        for i in range(1,31):\n",
    "            G.update()\n",
    "            for k in vals:\n",
    "                vals[k].append(G.nodes[k]['value'])\n",
    "                days[k].append(G.nodes['DAY']['value'])\n",
    "\n",
    "    for k in vals:\n",
    "        sns.lineplot(days[k], vals[k], ax = ax[k], label=k, color=colors[k])\n",
    "        ax[k].set_xlabel('DAY', fontsize=20)\n",
    "        ax[k].set_ylabel(k, fontsize=20)\n",
    "\n",
    "    plt.tight_layout()\n",
    "\n",
    "make_plots(10, deterministic=False)"
   ]
  },
  {
   "cell_type": "code",
   "execution_count": null,
   "metadata": {},
   "outputs": [],
   "source": []
  }
 ],
 "metadata": {
  "kernelspec": {
   "display_name": "Python 3",
   "language": "python",
   "name": "python3"
  },
  "language_info": {
   "codemirror_mode": {
    "name": "ipython",
    "version": 3
   },
   "file_extension": ".py",
   "mimetype": "text/x-python",
   "name": "python",
   "nbconvert_exporter": "python",
   "pygments_lexer": "ipython3",
   "version": "3.6.5"
  },
  "toc": {
   "base_numbering": 1,
   "nav_menu": {},
   "number_sections": true,
   "sideBar": true,
   "skip_h1_title": true,
   "title_cell": "Table of Contents",
   "title_sidebar": "Contents",
   "toc_cell": false,
   "toc_position": {
    "height": "calc(100% - 180px)",
    "left": "10px",
    "top": "150px",
    "width": "165px"
   },
   "toc_section_display": true,
   "toc_window_display": false
  }
 },
 "nbformat": 4,
 "nbformat_minor": 2
}
